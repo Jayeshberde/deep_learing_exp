{
  "nbformat": 4,
  "nbformat_minor": 0,
  "metadata": {
    "colab": {
      "provenance": []
    },
    "kernelspec": {
      "name": "python3",
      "display_name": "Python 3"
    },
    "language_info": {
      "name": "python"
    }
  },
  "cells": [
    {
      "cell_type": "code",
      "execution_count": 1,
      "metadata": {
        "id": "Gypl5om6QZV0"
      },
      "outputs": [],
      "source": [
        "import keras\n",
        "from keras import layers\n",
        "from keras.datasets import mnist\n",
        "import numpy as np"
      ]
    },
    {
      "cell_type": "code",
      "source": [
        "(x_train,_),(x_test,_)= mnist.load_data()"
      ],
      "metadata": {
        "id": "AJ3g79FKQp_l"
      },
      "execution_count": 35,
      "outputs": []
    },
    {
      "cell_type": "code",
      "source": [
        "x_train = x_train.astype('float32')/255.\n",
        "x_test = x_test.astype('float32')/255.\n",
        "x_train = x_train.reshape((len(x_train),np.prod(x_train.shape[1:])))\n",
        "x_test = x_test.reshape((len(x_test),np.prod(x_train.shape[1:])))\n",
        "print(x_train.shape)\n",
        "print(x_test.shape)"
      ],
      "metadata": {
        "colab": {
          "base_uri": "https://localhost:8080/"
        },
        "id": "CbsGOadIRExU",
        "outputId": "8c756590-274a-4e11-f48e-1b9d1c874ab8"
      },
      "execution_count": 36,
      "outputs": [
        {
          "output_type": "stream",
          "name": "stdout",
          "text": [
            "(60000, 784)\n",
            "(10000, 784)\n"
          ]
        }
      ]
    },
    {
      "cell_type": "code",
      "source": [
        "encoding_dim = 32\n",
        "input_img = keras.Input(shape=(784,))\n",
        "encoded = layers.Dense(encoding_dim,activation='relu')(input_img)\n",
        "decoded = layers.Dense(784,activation ='sigmoid')(encoded)\n",
        "autoencoder = keras.Model(input_img,decoded)"
      ],
      "metadata": {
        "id": "mnHv8w5wRE-j"
      },
      "execution_count": 37,
      "outputs": []
    },
    {
      "cell_type": "code",
      "source": [
        "encoder = keras.Model(input_img,encoded)"
      ],
      "metadata": {
        "id": "psJ8Zn7QSnkT"
      },
      "execution_count": 38,
      "outputs": []
    },
    {
      "cell_type": "code",
      "source": [
        "encoded_input = keras.Input(shape=(encoding_dim,))\n",
        "decoder_layer = autoencoder.layers[-1]\n",
        "decoder = keras.Model(encoded_input,decoder_layer(encoded_input))"
      ],
      "metadata": {
        "id": "vkxkycI7TB0T"
      },
      "execution_count": 39,
      "outputs": []
    },
    {
      "cell_type": "code",
      "source": [
        "autoencoder.compile(optimizer='adam',loss='binary_crossentropy')"
      ],
      "metadata": {
        "id": "b3al-szgTdXj"
      },
      "execution_count": 40,
      "outputs": []
    },
    {
      "cell_type": "code",
      "source": [
        "autoencoder.fit(x_train,x_train,\n",
        "                epochs = 20,\n",
        "                batch_size = 64,\n",
        "                shuffle=True,\n",
        "                validation_data=(x_test,x_test))"
      ],
      "metadata": {
        "colab": {
          "base_uri": "https://localhost:8080/"
        },
        "id": "2F-LWtiNTssi",
        "outputId": "826af9f0-c48a-40e4-95e3-e3b14875841b"
      },
      "execution_count": 41,
      "outputs": [
        {
          "output_type": "stream",
          "name": "stdout",
          "text": [
            "Epoch 1/20\n",
            "938/938 [==============================] - 7s 7ms/step - loss: 0.1912 - val_loss: 0.1319\n",
            "Epoch 2/20\n",
            "938/938 [==============================] - 5s 5ms/step - loss: 0.1182 - val_loss: 0.1063\n",
            "Epoch 3/20\n",
            "938/938 [==============================] - 7s 7ms/step - loss: 0.1026 - val_loss: 0.0976\n",
            "Epoch 4/20\n",
            "938/938 [==============================] - 5s 6ms/step - loss: 0.0970 - val_loss: 0.0945\n",
            "Epoch 5/20\n",
            "938/938 [==============================] - 6s 7ms/step - loss: 0.0953 - val_loss: 0.0934\n",
            "Epoch 6/20\n",
            "938/938 [==============================] - 6s 6ms/step - loss: 0.0946 - val_loss: 0.0931\n",
            "Epoch 7/20\n",
            "938/938 [==============================] - 5s 6ms/step - loss: 0.0942 - val_loss: 0.0926\n",
            "Epoch 8/20\n",
            "938/938 [==============================] - 6s 6ms/step - loss: 0.0939 - val_loss: 0.0925\n",
            "Epoch 9/20\n",
            "938/938 [==============================] - 5s 5ms/step - loss: 0.0937 - val_loss: 0.0925\n",
            "Epoch 10/20\n",
            "938/938 [==============================] - 6s 7ms/step - loss: 0.0936 - val_loss: 0.0924\n",
            "Epoch 11/20\n",
            "938/938 [==============================] - 5s 5ms/step - loss: 0.0935 - val_loss: 0.0922\n",
            "Epoch 12/20\n",
            "938/938 [==============================] - 6s 7ms/step - loss: 0.0934 - val_loss: 0.0922\n",
            "Epoch 13/20\n",
            "938/938 [==============================] - 5s 5ms/step - loss: 0.0934 - val_loss: 0.0921\n",
            "Epoch 14/20\n",
            "938/938 [==============================] - 6s 6ms/step - loss: 0.0933 - val_loss: 0.0920\n",
            "Epoch 15/20\n",
            "938/938 [==============================] - 6s 6ms/step - loss: 0.0932 - val_loss: 0.0920\n",
            "Epoch 16/20\n",
            "938/938 [==============================] - 5s 6ms/step - loss: 0.0932 - val_loss: 0.0920\n",
            "Epoch 17/20\n",
            "938/938 [==============================] - 7s 7ms/step - loss: 0.0932 - val_loss: 0.0919\n",
            "Epoch 18/20\n",
            "938/938 [==============================] - 5s 5ms/step - loss: 0.0931 - val_loss: 0.0919\n",
            "Epoch 19/20\n",
            "938/938 [==============================] - 6s 7ms/step - loss: 0.0931 - val_loss: 0.0920\n",
            "Epoch 20/20\n",
            "938/938 [==============================] - 5s 6ms/step - loss: 0.0931 - val_loss: 0.0922\n"
          ]
        },
        {
          "output_type": "execute_result",
          "data": {
            "text/plain": [
              "<keras.callbacks.History at 0x7c29fbff4280>"
            ]
          },
          "metadata": {},
          "execution_count": 41
        }
      ]
    },
    {
      "cell_type": "code",
      "source": [
        "encoded_imgs = encoder.predict(x_test)\n",
        "decoded_imgs = decoder.predict(encoded_imgs)"
      ],
      "metadata": {
        "colab": {
          "base_uri": "https://localhost:8080/"
        },
        "id": "mWJumfvNTsx7",
        "outputId": "2444ba19-1e1f-4b62-fddc-b6b58dc83cf8"
      },
      "execution_count": 43,
      "outputs": [
        {
          "output_type": "stream",
          "name": "stdout",
          "text": [
            "313/313 [==============================] - 0s 1ms/step\n",
            "313/313 [==============================] - 0s 1ms/step\n"
          ]
        }
      ]
    },
    {
      "cell_type": "code",
      "source": [
        "import matplotlib.pyplot as plt\n",
        "\n",
        "n = 10\n",
        "plt.figure(figsize=(20,4))\n",
        "for i in range(n):\n",
        "\n",
        "  ax = plt.subplot(2,n,i+1)\n",
        "  plt.imshow(x_test[i].reshape(28,28))\n",
        "  plt.gray()\n",
        "  ax.get_xaxis().set_visible(False)\n",
        "  ax.get_yaxis().set_visible(False)\n",
        "\n",
        "  ax=plt.subplot(2,n,i+1+n)\n",
        "  plt.imshow(decoded_imgs[i].reshape(28,28))\n",
        "  plt.gray()\n",
        "  ax.get_xaxis().set_visible(False)\n",
        "  ax.get_yaxis().set_visible(False)\n",
        "  plt.show()"
      ],
      "metadata": {
        "colab": {
          "base_uri": "https://localhost:8080/",
          "height": 1000
        },
        "id": "2fa694VQY7zA",
        "outputId": "a5369373-ed2d-4fbf-ac00-c63ac15938f4"
      },
      "execution_count": 45,
      "outputs": [
        {
          "output_type": "display_data",
          "data": {
            "text/plain": [
              "<Figure size 2000x400 with 2 Axes>"
            ],
            "image/png": "[encoded data removed]"
          },
          "metadata": {}
        },
        {
          "output_type": "display_data",
          "data": {
            "text/plain": [
              "<Figure size 640x480 with 2 Axes>"
            ],
            "image/png": "[encoded data removed]"
          },
          "metadata": {}
        },
        {
          "output_type": "display_data",
          "data": {
            "text/plain": [
              "<Figure size 640x480 with 2 Axes>"
            ],
            "image/png": "[encoded data removed]"
          },
          "metadata": {}
        },
        {
          "output_type": "display_data",
          "data": {
            "text/plain": [
              "<Figure size 640x480 with 2 Axes>"
            ],
            "image/png": "[encoded data removed]"
          },
          "metadata": {}
        },
        {
          "output_type": "display_data",
          "data": {
            "text/plain": [
              "<Figure size 640x480 with 2 Axes>"
            ],
            "image/png": "[encoded data removed]"
          },
          "metadata": {}
        },
        {
          "output_type": "display_data",
          "data": {
            "text/plain": [
              "<Figure size 640x480 with 2 Axes>"
            ],
            "image/png": "[encoded data removed]"
          },
          "metadata": {}
        },
        {
          "output_type": "display_data",
          "data": {
            "text/plain": [
              "<Figure size 640x480 with 2 Axes>"
            ],
            "image/png": "[encoded data removed]"
          },
          "metadata": {}
        },
        {
          "output_type": "display_data",
          "data": {
            "text/plain": [
              "<Figure size 640x480 with 2 Axes>"
            ],
            "image/png": "[encoded data removed]"
          },
          "metadata": {}
        },
        {
          "output_type": "display_data",
          "data": {
            "text/plain": [
              "<Figure size 640x480 with 2 Axes>"
            ],
            "image/png": "[encoded data removed]"
          },
          "metadata": {}
        },
        {
          "output_type": "display_data",
          "data": {
            "text/plain": [
              "<Figure size 640x480 with 2 Axes>"
            ],
            "image/png": "[encoded data removed]"
          },
          "metadata": {}
        }
      ]
    }
  ]
}